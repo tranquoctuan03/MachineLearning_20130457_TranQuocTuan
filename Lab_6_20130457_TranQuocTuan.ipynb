{
  "nbformat": 4,
  "nbformat_minor": 0,
  "metadata": {
    "colab": {
      "provenance": [],
      "include_colab_link": true
    },
    "kernelspec": {
      "name": "python3",
      "display_name": "Python 3"
    },
    "language_info": {
      "name": "python"
    }
  },
  "cells": [
    {
      "cell_type": "markdown",
      "metadata": {
        "id": "view-in-github",
        "colab_type": "text"
      },
      "source": [
        "<a href=\"https://colab.research.google.com/github/tranquoctuan03/MachineLearning_20130457_TranQuocTuan/blob/main/Lab_6_20130457_TranQuocTuan.ipynb\" target=\"_parent\"><img src=\"https://colab.research.google.com/assets/colab-badge.svg\" alt=\"Open In Colab\"/></a>"
      ]
    },
    {
      "cell_type": "markdown",
      "source": [
        "# This lab is to deal with classification task using **Random Forests** and **Naïve Bayes** algorithms with/without **Feature Selection**. \n",
        "\n",
        "*   **Deadline: 23:59, 25/03/2023**\n",
        "\n"
      ],
      "metadata": {
        "id": "LMzehe0sy5wr"
      }
    },
    {
      "cell_type": "markdown",
      "source": [
        "# Import libraries"
      ],
      "metadata": {
        "id": "H4nJmxp9zGX4"
      }
    },
    {
      "cell_type": "code",
      "execution_count": 1,
      "metadata": {
        "id": "DoVWQ8AEyc-C"
      },
      "outputs": [],
      "source": [
        "# code\n",
        "from sklearn import datasets\n",
        "from sklearn.preprocessing import StandardScaler\n",
        "from sklearn.model_selection import train_test_split\n",
        "from sklearn.ensemble import RandomForestClassifier\n",
        "from sklearn.naive_bayes import GaussianNB\n",
        "from sklearn import svm\n",
        "from sklearn.metrics import accuracy_score, precision_score, recall_score, f1_score\n",
        "import pandas as pd\n",
        "from sklearn.feature_selection import SelectKBest\n",
        "from sklearn.feature_selection import f_classif\n",
        "from sklearn.feature_selection import SelectFromModel\n",
        "import numpy as np\n"
      ]
    },
    {
      "cell_type": "markdown",
      "source": [
        "#Task 1. \n",
        "Task 1. Compare the performance of selected classification algorithms including **Random forest**, **NaiveBayes**, and **SVM** with **mnist** dataset based on **accuracy, precision, recall, f1** measures according to **without using selection feature** and **using selection feature**.\n",
        "\n"
      ],
      "metadata": {
        "id": "kNv07ARGzOUm"
      }
    },
    {
      "cell_type": "code",
      "source": [
        "mnist = datasets.load_digits()\n",
        "X = mnist.data\n",
        "y = mnist.target\n",
        "#Chuan hoa du lieu\n",
        "scaler = StandardScaler()\n",
        "X_scaled = scaler.fit_transform(X)\n",
        "# Split 7-3\n",
        "X_train, X_test, y_train, y_test = train_test_split(X_scaled, y, test_size=0.3, random_state=42)\n",
        "#Random forest\n",
        "clf_randomforest=RandomForestClassifier(n_estimators=100)\n",
        "clf_randomforest.fit(X_train,y_train)\n",
        "y_pred_random = clf_randomforest.predict(X_test)\n",
        "#NaiveBayes\n",
        "model = GaussianNB()\n",
        "model.fit(X_train, y_train)\n",
        "y_pred_bayes = model.predict(X_test)\n",
        "#SVM with \n",
        "clf_linear = svm.SVC(kernel='linear')\n",
        "clf_linear.fit(X_train, y_train)\n",
        "y_pred_linear = clf_linear.predict(X_test)\n",
        "table = {\n",
        "    \"Random forest\":{\n",
        "        \"accuracy\": accuracy_score(y_test, y_pred_random),\n",
        "        \"precision\": precision_score(y_test, y_pred_random, average='macro'),\n",
        "        \"recall\": recall_score(y_test, y_pred_random, average='macro'),\n",
        "        \"f1\": f1_score(y_test, y_pred_random, average='macro')\n",
        "    },\n",
        "    \"NaiveBayes\":{\n",
        "        \"accuracy\": accuracy_score(y_test, y_pred_bayes),\n",
        "        \"precision\": precision_score(y_test, y_pred_bayes, average='macro'),\n",
        "        \"recall\": recall_score(y_test, y_pred_bayes, average='macro'),\n",
        "        \"f1\": f1_score(y_test, y_pred_bayes, average='macro')\n",
        "    },\n",
        "    \"SVM linear\":{\n",
        "        \"accuracy\": accuracy_score(y_test, y_pred_linear),\n",
        "        \"precision\": precision_score(y_test, y_pred_linear, average='macro'),\n",
        "        \"recall\": recall_score(y_test, y_pred_linear, average='macro'),\n",
        "        \"f1\": f1_score(y_test, y_pred_linear, average='macro')\n",
        "    }\n",
        "}\n",
        "#print\n",
        "df_metrics = pd.DataFrame.from_dict(table, orient='index')\n",
        "print(df_metrics)"
      ],
      "metadata": {
        "id": "sOsg77IBzEyo",
        "colab": {
          "base_uri": "https://localhost:8080/"
        },
        "outputId": "5f76102b-21cb-465e-a250-80cc027b274d"
      },
      "execution_count": 2,
      "outputs": [
        {
          "output_type": "stream",
          "name": "stdout",
          "text": [
            "               accuracy  precision    recall        f1\n",
            "Random forest  0.972222   0.972094  0.972098  0.971998\n",
            "NaiveBayes     0.787037   0.823782  0.782850  0.776377\n",
            "SVM linear     0.977778   0.977356  0.978005  0.977647\n"
          ]
        }
      ]
    },
    {
      "cell_type": "code",
      "source": [
        "importances = clf_randomforest.feature_importances_\n",
        "#sort\n",
        "sorted_idx = np.argsort(importances)[::-1]\n",
        "\n",
        "for idx in sorted_idx:\n",
        "    print(f\"{mnist.feature_names[idx]}: {importances[idx]}\")"
      ],
      "metadata": {
        "colab": {
          "base_uri": "https://localhost:8080/"
        },
        "id": "jpEfhB_XlkF4",
        "outputId": "c2694a55-43bf-4cb1-92ee-df8f65bc1d13"
      },
      "execution_count": 3,
      "outputs": [
        {
          "output_type": "stream",
          "name": "stdout",
          "text": [
            "pixel_2_5: 0.04753603463495741\n",
            "pixel_4_4: 0.04489120509579683\n",
            "pixel_5_3: 0.04450364009425306\n",
            "pixel_5_2: 0.039435708024240165\n",
            "pixel_3_2: 0.03875291499986989\n",
            "pixel_7_5: 0.032743004468103146\n",
            "pixel_4_1: 0.03033238441902162\n",
            "pixel_2_4: 0.029742543773590868\n",
            "pixel_3_6: 0.028613368775583455\n",
            "pixel_4_6: 0.027976835595192342\n",
            "pixel_4_2: 0.027488297456910962\n",
            "pixel_1_2: 0.026985257606919274\n",
            "pixel_3_3: 0.02694006155503673\n",
            "pixel_3_4: 0.025745104875713406\n",
            "pixel_6_6: 0.024901366481249628\n",
            "pixel_7_4: 0.02453565106663075\n",
            "pixel_1_5: 0.02410969954528307\n",
            "pixel_3_5: 0.0238047151443697\n",
            "pixel_0_2: 0.023372635012402852\n",
            "pixel_2_3: 0.02293326330183779\n",
            "pixel_6_5: 0.02290080021390618\n",
            "pixel_2_2: 0.021887664729002287\n",
            "pixel_6_3: 0.021200812870407024\n",
            "pixel_5_4: 0.021126230485642286\n",
            "pixel_7_2: 0.02079526748718233\n",
            "pixel_5_6: 0.018806769165874204\n",
            "pixel_4_3: 0.018263873900290807\n",
            "pixel_6_2: 0.017326415635795293\n",
            "pixel_1_4: 0.01731660335395349\n",
            "pixel_0_5: 0.017295899389341462\n",
            "pixel_4_5: 0.016805144943593153\n",
            "pixel_3_1: 0.01630782591413774\n",
            "pixel_5_5: 0.015773369166271353\n",
            "pixel_7_6: 0.013890143970839916\n",
            "pixel_1_1: 0.013383299550387764\n",
            "pixel_6_4: 0.012671862315191766\n",
            "pixel_7_3: 0.01221342584723074\n",
            "pixel_5_1: 0.01109289687002391\n",
            "pixel_0_3: 0.010682999747348636\n",
            "pixel_0_4: 0.009985026978682449\n",
            "pixel_2_1: 0.009088449686020694\n",
            "pixel_2_6: 0.008184664711555581\n",
            "pixel_0_6: 0.007993487245502884\n",
            "pixel_1_3: 0.007231888634889462\n",
            "pixel_1_6: 0.005171985797553915\n",
            "pixel_7_7: 0.003982856749770599\n",
            "pixel_0_1: 0.003639128655375351\n",
            "pixel_7_1: 0.003042044034973104\n",
            "pixel_6_1: 0.0029452129024242655\n",
            "pixel_6_7: 0.0018020807380023298\n",
            "pixel_0_7: 0.0006523848744868697\n",
            "pixel_2_7: 0.000517107186171328\n",
            "pixel_1_7: 0.0003484002172779005\n",
            "pixel_2_0: 7.464951176143782e-05\n",
            "pixel_3_0: 7.060114358087506e-05\n",
            "pixel_3_7: 4.967972521811415e-05\n",
            "pixel_7_0: 4.6868679672015974e-05\n",
            "pixel_1_0: 4.5512952423278076e-05\n",
            "pixel_5_7: 1.561036241850842e-05\n",
            "pixel_5_0: 1.556575694084985e-05\n",
            "pixel_6_0: 1.1795971914888825e-05\n",
            "pixel_4_0: 0.0\n",
            "pixel_4_7: 0.0\n",
            "pixel_0_0: 0.0\n"
          ]
        }
      ]
    },
    {
      "cell_type": "markdown",
      "source": [
        "#Task 2. \n",
        "For given bank dataset (bank.csv) having the following attributes :\n",
        "1.\t**age** (numeric)\n",
        "2.\t**job** : type of job (categorical: 'admin.','blue-collar','entrepreneur','housemaid','management','retired','self-employed','services','student','technician','unemployed','unknown')\n",
        "3.\t**marital** : marital status (categorical: 'divorced','married','single','unknown'; note: 'divorced' means divorced or widowed)\n",
        "4.\t**education** (categorical: 'basic.4y','basic.6y','basic.9y','high.school','illiterate','professional.course','university.degree','unknown')\n",
        "5.\t**default**: has credit in default? (categorical: 'no','yes','unknown')\n",
        "6.\t**housing**: has housing loan? (categorical: 'no','yes','unknown')\n",
        "7.\t**loan**: has personal loan? (categorical: 'no','yes','unknown')\n",
        "8.\t**contact**: contact communication type (categorical: 'cellular','telephone')\n",
        "9.\t**month**: last contact month of year (categorical: 'jan', 'feb', 'mar', ..., 'nov', 'dec')\n",
        "10.\t**day_of_week**: last contact day of the week (categorical: 'mon','tue','wed','thu','fri')\n",
        "11.\t**duration**: last contact duration, in seconds (numeric). Important note: this attribute highly affects the output target (e.g., if duration=0 then y='no'). Yet, the duration is not known before a call is performed. Also, after the end of the call y is obviously known. Thus, this input should only be included for benchmark purposes and should be discarded if the intention is to have a realistic predictive model.\n",
        "12.\t**campaign**: number of contacts performed during this campaign and for this client (numeric, includes last contact)\n",
        "13.\t**pdays**: number of days that passed by after the client was last contacted from a previous campaign (numeric; 999 means client was not previously contacted)\n",
        "14.\t**previous**: number of contacts performed before this campaign and for this client (numeric)\n",
        "15.\t**poutcome**: outcome of the previous marketing campaign (categorical: 'failure','nonexistent','success')\n",
        "Output variable (desired target):\n",
        "16.\t**y**. has the client subscribed a term deposit? (binary: 'yes','no')\n",
        "\n"
      ],
      "metadata": {
        "id": "b52OPWPD2afi"
      }
    },
    {
      "cell_type": "code",
      "source": [
        "from google.colab import drive\n",
        "drive.mount('/content/gdrive')\n",
        "%cd '/content/gdrive/MyDrive/Marching-Learning'\n",
        "from sklearn.preprocessing import OneHotEncoder\n",
        "from sklearn.tree import DecisionTreeClassifier\n",
        "from sklearn.neighbors import KNeighborsClassifier"
      ],
      "metadata": {
        "colab": {
          "base_uri": "https://localhost:8080/"
        },
        "id": "Vc_mVR7tlqt3",
        "outputId": "4aa082b8-0286-4bb2-df9c-f611dac380f5"
      },
      "execution_count": 17,
      "outputs": [
        {
          "output_type": "stream",
          "name": "stdout",
          "text": [
            "Drive already mounted at /content/gdrive; to attempt to forcibly remount, call drive.mount(\"/content/gdrive\", force_remount=True).\n",
            "/content/gdrive/MyDrive/Marching-Learning\n"
          ]
        }
      ]
    },
    {
      "cell_type": "code",
      "source": [
        "dataSet = pd.read_csv(\"bank.csv\")\n",
        "print(dataSet)\n",
        "     "
      ],
      "metadata": {
        "colab": {
          "base_uri": "https://localhost:8080/"
        },
        "id": "kUT8O4S-ltJP",
        "outputId": "9a11bfc1-f527-42d3-aac8-0a618219b16a"
      },
      "execution_count": 8,
      "outputs": [
        {
          "output_type": "stream",
          "name": "stdout",
          "text": [
            "       age          job  marital  education default  balance housing loan  \\\n",
            "0       59       admin.  married  secondary      no     2343     yes   no   \n",
            "1       56       admin.  married  secondary      no       45      no   no   \n",
            "2       41   technician  married  secondary      no     1270     yes   no   \n",
            "3       55     services  married  secondary      no     2476     yes   no   \n",
            "4       54       admin.  married   tertiary      no      184      no   no   \n",
            "...    ...          ...      ...        ...     ...      ...     ...  ...   \n",
            "11157   33  blue-collar   single    primary      no        1     yes   no   \n",
            "11158   39     services  married  secondary      no      733      no   no   \n",
            "11159   32   technician   single  secondary      no       29      no   no   \n",
            "11160   43   technician  married  secondary      no        0      no  yes   \n",
            "11161   34   technician  married  secondary      no        0      no   no   \n",
            "\n",
            "        contact  day month  duration  campaign  pdays  previous poutcome  \\\n",
            "0       unknown    5   may      1042         1     -1         0  unknown   \n",
            "1       unknown    5   may      1467         1     -1         0  unknown   \n",
            "2       unknown    5   may      1389         1     -1         0  unknown   \n",
            "3       unknown    5   may       579         1     -1         0  unknown   \n",
            "4       unknown    5   may       673         2     -1         0  unknown   \n",
            "...         ...  ...   ...       ...       ...    ...       ...      ...   \n",
            "11157  cellular   20   apr       257         1     -1         0  unknown   \n",
            "11158   unknown   16   jun        83         4     -1         0  unknown   \n",
            "11159  cellular   19   aug       156         2     -1         0  unknown   \n",
            "11160  cellular    8   may         9         2    172         5  failure   \n",
            "11161  cellular    9   jul       628         1     -1         0  unknown   \n",
            "\n",
            "      deposit  \n",
            "0         yes  \n",
            "1         yes  \n",
            "2         yes  \n",
            "3         yes  \n",
            "4         yes  \n",
            "...       ...  \n",
            "11157      no  \n",
            "11158      no  \n",
            "11159      no  \n",
            "11160      no  \n",
            "11161      no  \n",
            "\n",
            "[11162 rows x 17 columns]\n"
          ]
        }
      ]
    },
    {
      "cell_type": "markdown",
      "source": [
        "#3.1. Apply StandardScaler() function to columns that contains numerical data ('age', 'balance', 'day', 'campaign', 'pdays', 'previous')"
      ],
      "metadata": {
        "id": "q89LEvT7dqaZ"
      }
    },
    {
      "cell_type": "code",
      "source": [
        "scaler = StandardScaler()\n",
        "dataSet[['age', 'balance', 'day', 'campaign', 'pdays', 'previous']] = scaler.fit_transform(dataSet[['age', 'balance', 'day', 'campaign', 'pdays', 'previous']])\n",
        "print(dataSet[['age', 'balance', 'day', 'campaign', 'pdays', 'previous']])\n",
        "     "
      ],
      "metadata": {
        "id": "8vx3mfIidu4P",
        "colab": {
          "base_uri": "https://localhost:8080/"
        },
        "outputId": "3276001d-2f6e-4fff-abe0-bdd18e6221f8"
      },
      "execution_count": 9,
      "outputs": [
        {
          "output_type": "stream",
          "name": "stdout",
          "text": [
            "            age   balance       day  campaign     pdays  previous\n",
            "0      1.491505  0.252525 -1.265746 -0.554168 -0.481184 -0.363260\n",
            "1      1.239676 -0.459974 -1.265746 -0.554168 -0.481184 -0.363260\n",
            "2     -0.019470 -0.080160 -1.265746 -0.554168 -0.481184 -0.363260\n",
            "3      1.155733  0.293762 -1.265746 -0.554168 -0.481184 -0.363260\n",
            "4      1.071790 -0.416876 -1.265746 -0.186785 -0.481184 -0.363260\n",
            "...         ...       ...       ...       ...       ...       ...\n",
            "11157 -0.691015 -0.473616  0.515650 -0.554168 -0.481184 -0.363260\n",
            "11158 -0.187357 -0.246658  0.040612  0.547981 -0.481184 -0.363260\n",
            "11159 -0.774958 -0.464934  0.396891 -0.186785 -0.481184 -0.363260\n",
            "11160  0.148416 -0.473926 -0.909466 -0.186785  1.109571  1.818332\n",
            "11161 -0.607072 -0.473926 -0.790707 -0.554168 -0.481184 -0.363260\n",
            "\n",
            "[11162 rows x 6 columns]\n"
          ]
        }
      ]
    },
    {
      "cell_type": "markdown",
      "source": [
        "#3.2. Apply Encode Categorical Value (OneHotEncoder) to transfrom categorical data to numerical data ('job', 'marital', 'education', 'default', 'housing', 'loan', 'contact', 'month', 'poutcome')"
      ],
      "metadata": {
        "id": "r7acR0TxdvY8"
      }
    },
    {
      "cell_type": "code",
      "source": [
        "encode_cols = ['job', 'marital', 'education', 'default', 'housing', 'loan', 'contact', 'month', 'poutcome']\n",
        "onehotencoder = OneHotEncoder()\n",
        "onehotencoder.fit(dataSet[encode_cols])\n",
        "onehot_encoded = onehotencoder.transform(dataSet[encode_cols]).toarray()\n",
        "onehot_encoded_df = pd.DataFrame(onehot_encoded, columns=onehotencoder.get_feature_names_out(encode_cols))\n",
        "dataSet = pd.concat([dataSet, onehot_encoded_df], axis=1)\n",
        "dataSet = dataSet.drop(encode_cols, axis=1)\n",
        "print(dataSet.columns)"
      ],
      "metadata": {
        "id": "egtgBmAtd0um",
        "colab": {
          "base_uri": "https://localhost:8080/"
        },
        "outputId": "aa0c66e3-9d7a-4c6b-a9c8-d422efe2928f"
      },
      "execution_count": 10,
      "outputs": [
        {
          "output_type": "stream",
          "name": "stdout",
          "text": [
            "Index(['age', 'balance', 'day', 'duration', 'campaign', 'pdays', 'previous',\n",
            "       'deposit', 'job_admin.', 'job_blue-collar', 'job_entrepreneur',\n",
            "       'job_housemaid', 'job_management', 'job_retired', 'job_self-employed',\n",
            "       'job_services', 'job_student', 'job_technician', 'job_unemployed',\n",
            "       'job_unknown', 'marital_divorced', 'marital_married', 'marital_single',\n",
            "       'education_primary', 'education_secondary', 'education_tertiary',\n",
            "       'education_unknown', 'default_no', 'default_yes', 'housing_no',\n",
            "       'housing_yes', 'loan_no', 'loan_yes', 'contact_cellular',\n",
            "       'contact_telephone', 'contact_unknown', 'month_apr', 'month_aug',\n",
            "       'month_dec', 'month_feb', 'month_jan', 'month_jul', 'month_jun',\n",
            "       'month_mar', 'month_may', 'month_nov', 'month_oct', 'month_sep',\n",
            "       'poutcome_failure', 'poutcome_other', 'poutcome_success',\n",
            "       'poutcome_unknown'],\n",
            "      dtype='object')\n"
          ]
        }
      ]
    },
    {
      "cell_type": "markdown",
      "source": [
        "#3.3. Apply **Decision tree, Random forest, kNN, NaïveBayes** to preproceed dataset in the previous steps. Then compare the obtained results using **accuracy, precision, recall, f1** measures."
      ],
      "metadata": {
        "id": "K2Si6d69d1nh"
      }
    },
    {
      "cell_type": "code",
      "source": [
        "# Split 7-3\n",
        "X_train, X_test, y_train, y_test = train_test_split(dataSet.drop('deposit', axis=1), dataSet['deposit'], test_size=0.3, random_state=42)\n",
        "#Decision Tree\n",
        "tree = DecisionTreeClassifier(criterion=\"gini\", random_state=42, max_depth=5, min_samples_leaf=10)\n",
        "tree.fit(X_train, y_train)\n",
        "y_pred_tree = tree.predict(X_test)\n",
        "#Random forest\n",
        "clf_randomforest=RandomForestClassifier(n_estimators=100)\n",
        "clf_randomforest.fit(X_train,y_train)\n",
        "y_pred_random = clf_randomforest.predict(X_test)\n",
        "#kNN\n",
        "knn = KNeighborsClassifier(n_neighbors=5)\n",
        "knn.fit(X_train, y_train)\n",
        "y_pred_knn = knn.predict(X_test)\n",
        "#NaiveBayes\n",
        "model = GaussianNB()\n",
        "model.fit(X_train, y_train)\n",
        "y_pred_bayes = model.predict(X_test)\n",
        "table = {\n",
        "    \"Decision Tree\":{\n",
        "        \"accuracy\": accuracy_score(y_test, y_pred_tree),\n",
        "        \"precision\": precision_score(y_test, y_pred_tree, average='macro',zero_division=1),\n",
        "        \"recall\": recall_score(y_test, y_pred_tree, average='macro'),\n",
        "        \"f1\": f1_score(y_test, y_pred_tree, average='macro')\n",
        "    },\n",
        "    \"Random forest\":{\n",
        "        \"accuracy\": accuracy_score(y_test, y_pred_random),\n",
        "        \"precision\": precision_score(y_test, y_pred_random, average='macro',zero_division=1),\n",
        "        \"recall\": recall_score(y_test, y_pred_random, average='macro'),\n",
        "        \"f1\": f1_score(y_test, y_pred_random, average='macro')\n",
        "    },\n",
        "    \"KNN\":{\n",
        "        \"accuracy\": accuracy_score(y_test, y_pred_knn),\n",
        "        \"precision\": precision_score(y_test, y_pred_knn, average='macro',zero_division=1),\n",
        "        \"recall\": recall_score(y_test, y_pred_knn, average='macro'),\n",
        "        \"f1\": f1_score(y_test, y_pred_knn, average='macro')\n",
        "    },\n",
        "    \"NaiveBayes\":{\n",
        "        \"accuracy\": accuracy_score(y_test, y_pred_bayes),\n",
        "        \"precision\": precision_score(y_test, y_pred_bayes, average='macro',zero_division=1),\n",
        "        \"recall\": recall_score(y_test, y_pred_bayes, average='macro'),\n",
        "        \"f1\": f1_score(y_test, y_pred_bayes, average='macro')\n",
        "    },  \n",
        "}\n",
        "#print\n",
        "df_metrics = pd.DataFrame.from_dict(table, orient='index')\n",
        "print(df_metrics)"
      ],
      "metadata": {
        "id": "Ouil-cf_d8jW",
        "colab": {
          "base_uri": "https://localhost:8080/"
        },
        "outputId": "096d5053-3266-4fa5-9d82-34a69155bffb"
      },
      "execution_count": 11,
      "outputs": [
        {
          "output_type": "stream",
          "name": "stdout",
          "text": [
            "               accuracy  precision    recall        f1\n",
            "Decision Tree  0.789788   0.791646  0.787806  0.788402\n",
            "Random forest  0.846223   0.846935  0.847287  0.846213\n",
            "KNN            0.769782   0.769419  0.769323  0.769367\n",
            "NaiveBayes     0.723500   0.739052  0.717793  0.715221\n"
          ]
        }
      ]
    },
    {
      "cell_type": "markdown",
      "source": [
        "#3.4. Using selection feature to above dataset, then compare the classification results with those in Task 2.3. "
      ],
      "metadata": {
        "id": "SweVRB4meApP"
      }
    },
    {
      "cell_type": "code",
      "source": [
        "\n",
        "importances = clf_randomforest.feature_importances_\n",
        "#sort\n",
        "sorted_idx = np.argsort(importances)[::-1]\n",
        "#print rank\n",
        "for idx in sorted_idx:\n",
        "    print(f\"{importances[idx]}\")"
      ],
      "metadata": {
        "id": "seFBhqCSeC7C",
        "colab": {
          "base_uri": "https://localhost:8080/"
        },
        "outputId": "847866ba-558f-4c9f-c7ca-3a2d55f882ff"
      },
      "execution_count": 12,
      "outputs": [
        {
          "output_type": "stream",
          "name": "stdout",
          "text": [
            "0.33197849460323253\n",
            "0.07628007412858039\n",
            "0.0736938825177923\n",
            "0.06363509565719408\n",
            "0.03484969497078241\n",
            "0.03306277980296417\n",
            "0.031878518134089984\n",
            "0.022081184800358155\n",
            "0.01900947470379453\n",
            "0.01644124591331783\n",
            "0.016198493173261556\n",
            "0.015606422426288765\n",
            "0.012849805191124641\n",
            "0.012339076135565827\n",
            "0.01188470814204508\n",
            "0.011533264773322092\n",
            "0.011317987712288181\n",
            "0.010819093383800717\n",
            "0.010442434533694953\n",
            "0.010379942114838748\n",
            "0.010318773717787921\n",
            "0.010095529441033377\n",
            "0.008979380180225673\n",
            "0.00897581693608551\n",
            "0.008614455782822463\n",
            "0.008549142072461711\n",
            "0.008526371361843046\n",
            "0.008454584363556627\n",
            "0.008171965725395717\n",
            "0.007649402479126742\n",
            "0.0075239085686076655\n",
            "0.006470610510803431\n",
            "0.006354339601169316\n",
            "0.005738160245577995\n",
            "0.005675191337430428\n",
            "0.005662526360527687\n",
            "0.005182907190376205\n",
            "0.004692827022526763\n",
            "0.004677262670718845\n",
            "0.004549791486926616\n",
            "0.004097863039832175\n",
            "0.003898361127269726\n",
            "0.0037345516351819726\n",
            "0.0036164288845515736\n",
            "0.003221141041637357\n",
            "0.0030425692440286\n",
            "0.0025845378861276947\n",
            "0.0014933700840992707\n",
            "0.0011093250877651272\n",
            "0.001045746162392399\n",
            "0.001011485933773464\n"
          ]
        }
      ]
    },
    {
      "cell_type": "markdown",
      "source": [
        "#Task 4. \n",
        "For a given dataset in the Lab #5 (**credit card dataset**), perform feature selection and thencompare the performance of selected classification algorithms (Decision Tree, kNN, Logistic Regression, SVM, Random Forest and NaiveBayes) based on accuracy, precision, recall, f1 measures.\n"
      ],
      "metadata": {
        "id": "Z5pp7_h-aP2u"
      }
    },
    {
      "cell_type": "markdown",
      "source": [
        "#Finally,\n",
        "Save a copy in your Github. Remember renaming the notebook."
      ],
      "metadata": {
        "id": "Ok7RGkea_b7n"
      }
    }
  ]
}